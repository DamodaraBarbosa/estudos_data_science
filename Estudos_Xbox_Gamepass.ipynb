{
  "nbformat": 4,
  "nbformat_minor": 0,
  "metadata": {
    "colab": {
      "name": "Estudos_Xbox_Gamepass",
      "provenance": [],
      "authorship_tag": "ABX9TyO1dNPwmo28qm5+4+gInBtL",
      "include_colab_link": true
    },
    "kernelspec": {
      "name": "python3",
      "display_name": "Python 3"
    },
    "language_info": {
      "name": "python"
    }
  },
  "cells": [
    {
      "cell_type": "markdown",
      "metadata": {
        "id": "view-in-github",
        "colab_type": "text"
      },
      "source": [
        "<a href=\"https://colab.research.google.com/github/DamodaraBarbosa/testes_datascience/blob/main/Estudos_Xbox_Gamepass.ipynb\" target=\"_parent\"><img src=\"https://colab.research.google.com/assets/colab-badge.svg\" alt=\"Open In Colab\"/></a>"
      ]
    },
    {
      "cell_type": "markdown",
      "source": [
        "## **Estudos dataset Xbox Gamepass**"
      ],
      "metadata": {
        "id": "DXDha3gr4rim"
      }
    },
    {
      "cell_type": "code",
      "execution_count": null,
      "metadata": {
        "id": "dsujIzBT4pwk"
      },
      "outputs": [],
      "source": [
        ""
      ]
    }
  ]
}